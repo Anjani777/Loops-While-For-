{
 "cells": [
  {
   "cell_type": "code",
   "execution_count": 1,
   "id": "e3be9b40-bb23-47e0-8898-07b072877a79",
   "metadata": {},
   "outputs": [
    {
     "name": "stdout",
     "output_type": "stream",
     "text": [
      "1 2 3 4 5 "
     ]
    }
   ],
   "source": [
    "#Print nmber from 1 to 5 uing a while loop.\n",
    "n = 5\n",
    "i = 1\n",
    "while i <= n:\n",
    "    print(i, end =\" \")\n",
    "    i += 1"
   ]
  },
  {
   "cell_type": "code",
   "execution_count": 2,
   "id": "3b36eaf1-797a-4d5e-a98a-2a8165f2e995",
   "metadata": {},
   "outputs": [
    {
     "name": "stdout",
     "output_type": "stream",
     "text": [
      "55\n"
     ]
    }
   ],
   "source": [
    "#Calculate the sum of number from 1 to 10 using a while loop.\n",
    "n =  10\n",
    "i = 1\n",
    "a = 0\n",
    "while i <= n:\n",
    "     a += i\n",
    "     i += 1\n",
    "else:\n",
    "    print(a)\n"
   ]
  },
  {
   "cell_type": "code",
   "execution_count": 19,
   "id": "e11710ab-8f87-4835-84fe-11a208193127",
   "metadata": {},
   "outputs": [
    {
     "name": "stdout",
     "output_type": "stream",
     "text": [
      "the factoraial of 5 is 120\n"
     ]
    }
   ],
   "source": [
    "#Calculate the factorial of a number using a for loop.\n",
    "a = 1\n",
    "for i in range(1,6):\n",
    "     a *= i\n",
    "print(\"the factoraial of 5 is\" ,a)"
   ]
  },
  {
   "cell_type": "code",
   "execution_count": 3,
   "id": "c91de56b-bdd6-45b1-b77c-65689bf66dd3",
   "metadata": {},
   "outputs": [
    {
     "name": "stdout",
     "output_type": "stream",
     "text": [
      "****\n",
      "***\n",
      "**\n",
      "*\n"
     ]
    }
   ],
   "source": [
    "#Print a pattern using nested loop.\n",
    "row = 1\n",
    "while row <= 4:\n",
    "    col = 4\n",
    "    while col >= row:\n",
    "        print(\"*\", end = \"\")\n",
    "        col -= 1\n",
    "    print()\n",
    "    row +=1"
   ]
  },
  {
   "cell_type": "code",
   "execution_count": 16,
   "id": "03c58a90-e0a7-4a07-b6f7-be2680da0561",
   "metadata": {},
   "outputs": [
    {
     "name": "stdout",
     "output_type": "stream",
     "text": [
      "3\n"
     ]
    }
   ],
   "source": [
    "#Count the number of vowel in a string using a for loop.\n",
    "my_string = \"anjani\"\n",
    "vowel = \"aeiou\"\n",
    "count = 0\n",
    "for i in my_string:\n",
    "    if i in vowel:\n",
    "        count +=1\n",
    "print(count)\n",
    "    "
   ]
  },
  {
   "cell_type": "code",
   "execution_count": 1,
   "id": "4e042a87-c124-40ab-8642-9d0bd373ec8d",
   "metadata": {},
   "outputs": [
    {
     "name": "stdout",
     "output_type": "stream",
     "text": [
      "1 x 1 = 1\n",
      "1 x 2 = 2\n",
      "1 x 3 = 3\n",
      "1 x 4 = 4\n",
      "1 x 5 = 5\n",
      "\n",
      "2 x 1 = 2\n",
      "2 x 2 = 4\n",
      "2 x 3 = 6\n",
      "2 x 4 = 8\n",
      "2 x 5 = 10\n",
      "\n",
      "3 x 1 = 3\n",
      "3 x 2 = 6\n",
      "3 x 3 = 9\n",
      "3 x 4 = 12\n",
      "3 x 5 = 15\n",
      "\n",
      "4 x 1 = 4\n",
      "4 x 2 = 8\n",
      "4 x 3 = 12\n",
      "4 x 4 = 16\n",
      "4 x 5 = 20\n",
      "\n",
      "5 x 1 = 5\n",
      "5 x 2 = 10\n",
      "5 x 3 = 15\n",
      "5 x 4 = 20\n",
      "5 x 5 = 25\n",
      "\n"
     ]
    }
   ],
   "source": [
    "#for i in range(1,6):\n",
    "    for j in range(1,6):\n",
    "        print(f\"{i} x {j} = {i*j}\")\n",
    "    print()\n",
    "              "
   ]
  },
  {
   "cell_type": "code",
   "execution_count": null,
   "id": "0dc90842-89ef-42ab-8a62-f2515e99f46c",
   "metadata": {},
   "outputs": [],
   "source": []
  }
 ],
 "metadata": {
  "kernelspec": {
   "display_name": "Python 3 (ipykernel)",
   "language": "python",
   "name": "python3"
  },
  "language_info": {
   "codemirror_mode": {
    "name": "ipython",
    "version": 3
   },
   "file_extension": ".py",
   "mimetype": "text/x-python",
   "name": "python",
   "nbconvert_exporter": "python",
   "pygments_lexer": "ipython3",
   "version": "3.10.8"
  }
 },
 "nbformat": 4,
 "nbformat_minor": 5
}
